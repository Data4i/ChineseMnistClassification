{
 "cells": [
  {
   "cell_type": "code",
   "execution_count": 55,
   "id": "7a9a99be-dbe1-4ac0-aeaf-b2e31b92907b",
   "metadata": {},
   "outputs": [],
   "source": [
    "import warnings\n",
    "import numpy as np\n",
    "import matplotlib.pyplot as plt\n",
    "import seaborn as sns\n",
    "import pandas as pd\n",
    "import random\n",
    "from tqdm.auto import tqdm\n",
    "import torch \n",
    "from torch import nn\n",
    "import torchvision.transforms as T\n",
    "from torch.utils.data import TensorDataset, DataLoader, random_split\n",
    "from sklearn.preprocessing import OneHotEncoder\n",
    "from sklearn.metrics import f1_score\n",
    "from sklearn.metrics import confusion_matrix"
   ]
  },
  {
   "cell_type": "code",
   "execution_count": 2,
   "id": "f31aca02-ea21-462c-8194-2cc4fd2b6948",
   "metadata": {},
   "outputs": [],
   "source": [
    "df = pd.read_csv('data/chineseMNIST.csv')"
   ]
  },
  {
   "cell_type": "code",
   "execution_count": 3,
   "id": "a9fd808f-4dc5-463f-8621-424c96d609d8",
   "metadata": {},
   "outputs": [
    {
     "data": {
      "text/html": [
       "<div>\n",
       "<style scoped>\n",
       "    .dataframe tbody tr th:only-of-type {\n",
       "        vertical-align: middle;\n",
       "    }\n",
       "\n",
       "    .dataframe tbody tr th {\n",
       "        vertical-align: top;\n",
       "    }\n",
       "\n",
       "    .dataframe thead th {\n",
       "        text-align: right;\n",
       "    }\n",
       "</style>\n",
       "<table border=\"1\" class=\"dataframe\">\n",
       "  <thead>\n",
       "    <tr style=\"text-align: right;\">\n",
       "      <th></th>\n",
       "      <th>pixel_0</th>\n",
       "      <th>pixel_1</th>\n",
       "      <th>pixel_2</th>\n",
       "      <th>pixel_3</th>\n",
       "      <th>pixel_4</th>\n",
       "      <th>pixel_5</th>\n",
       "      <th>pixel_6</th>\n",
       "      <th>pixel_7</th>\n",
       "      <th>pixel_8</th>\n",
       "      <th>pixel_9</th>\n",
       "      <th>...</th>\n",
       "      <th>pixel_4088</th>\n",
       "      <th>pixel_4089</th>\n",
       "      <th>pixel_4090</th>\n",
       "      <th>pixel_4091</th>\n",
       "      <th>pixel_4092</th>\n",
       "      <th>pixel_4093</th>\n",
       "      <th>pixel_4094</th>\n",
       "      <th>pixel_4095</th>\n",
       "      <th>label</th>\n",
       "      <th>character</th>\n",
       "    </tr>\n",
       "  </thead>\n",
       "  <tbody>\n",
       "    <tr>\n",
       "      <th>8359</th>\n",
       "      <td>0</td>\n",
       "      <td>0</td>\n",
       "      <td>0</td>\n",
       "      <td>0</td>\n",
       "      <td>0</td>\n",
       "      <td>0</td>\n",
       "      <td>0</td>\n",
       "      <td>0</td>\n",
       "      <td>0</td>\n",
       "      <td>0</td>\n",
       "      <td>...</td>\n",
       "      <td>0</td>\n",
       "      <td>0</td>\n",
       "      <td>0</td>\n",
       "      <td>0</td>\n",
       "      <td>0</td>\n",
       "      <td>0</td>\n",
       "      <td>0</td>\n",
       "      <td>0</td>\n",
       "      <td>2</td>\n",
       "      <td>二</td>\n",
       "    </tr>\n",
       "    <tr>\n",
       "      <th>4196</th>\n",
       "      <td>0</td>\n",
       "      <td>0</td>\n",
       "      <td>0</td>\n",
       "      <td>0</td>\n",
       "      <td>0</td>\n",
       "      <td>0</td>\n",
       "      <td>0</td>\n",
       "      <td>0</td>\n",
       "      <td>0</td>\n",
       "      <td>0</td>\n",
       "      <td>...</td>\n",
       "      <td>0</td>\n",
       "      <td>0</td>\n",
       "      <td>0</td>\n",
       "      <td>0</td>\n",
       "      <td>0</td>\n",
       "      <td>0</td>\n",
       "      <td>0</td>\n",
       "      <td>0</td>\n",
       "      <td>10000</td>\n",
       "      <td>万</td>\n",
       "    </tr>\n",
       "    <tr>\n",
       "      <th>14747</th>\n",
       "      <td>0</td>\n",
       "      <td>0</td>\n",
       "      <td>0</td>\n",
       "      <td>0</td>\n",
       "      <td>0</td>\n",
       "      <td>0</td>\n",
       "      <td>0</td>\n",
       "      <td>0</td>\n",
       "      <td>0</td>\n",
       "      <td>0</td>\n",
       "      <td>...</td>\n",
       "      <td>0</td>\n",
       "      <td>0</td>\n",
       "      <td>0</td>\n",
       "      <td>0</td>\n",
       "      <td>0</td>\n",
       "      <td>0</td>\n",
       "      <td>0</td>\n",
       "      <td>0</td>\n",
       "      <td>8</td>\n",
       "      <td>八</td>\n",
       "    </tr>\n",
       "    <tr>\n",
       "      <th>9962</th>\n",
       "      <td>0</td>\n",
       "      <td>0</td>\n",
       "      <td>0</td>\n",
       "      <td>0</td>\n",
       "      <td>0</td>\n",
       "      <td>0</td>\n",
       "      <td>0</td>\n",
       "      <td>0</td>\n",
       "      <td>0</td>\n",
       "      <td>0</td>\n",
       "      <td>...</td>\n",
       "      <td>0</td>\n",
       "      <td>0</td>\n",
       "      <td>0</td>\n",
       "      <td>0</td>\n",
       "      <td>0</td>\n",
       "      <td>0</td>\n",
       "      <td>0</td>\n",
       "      <td>0</td>\n",
       "      <td>3</td>\n",
       "      <td>三</td>\n",
       "    </tr>\n",
       "    <tr>\n",
       "      <th>7976</th>\n",
       "      <td>0</td>\n",
       "      <td>0</td>\n",
       "      <td>0</td>\n",
       "      <td>0</td>\n",
       "      <td>0</td>\n",
       "      <td>0</td>\n",
       "      <td>0</td>\n",
       "      <td>0</td>\n",
       "      <td>0</td>\n",
       "      <td>0</td>\n",
       "      <td>...</td>\n",
       "      <td>0</td>\n",
       "      <td>0</td>\n",
       "      <td>0</td>\n",
       "      <td>0</td>\n",
       "      <td>0</td>\n",
       "      <td>0</td>\n",
       "      <td>0</td>\n",
       "      <td>0</td>\n",
       "      <td>1</td>\n",
       "      <td>一</td>\n",
       "    </tr>\n",
       "    <tr>\n",
       "      <th>10350</th>\n",
       "      <td>0</td>\n",
       "      <td>0</td>\n",
       "      <td>0</td>\n",
       "      <td>0</td>\n",
       "      <td>0</td>\n",
       "      <td>0</td>\n",
       "      <td>0</td>\n",
       "      <td>0</td>\n",
       "      <td>0</td>\n",
       "      <td>0</td>\n",
       "      <td>...</td>\n",
       "      <td>0</td>\n",
       "      <td>0</td>\n",
       "      <td>0</td>\n",
       "      <td>0</td>\n",
       "      <td>0</td>\n",
       "      <td>0</td>\n",
       "      <td>0</td>\n",
       "      <td>0</td>\n",
       "      <td>4</td>\n",
       "      <td>四</td>\n",
       "    </tr>\n",
       "    <tr>\n",
       "      <th>10553</th>\n",
       "      <td>0</td>\n",
       "      <td>0</td>\n",
       "      <td>0</td>\n",
       "      <td>0</td>\n",
       "      <td>0</td>\n",
       "      <td>0</td>\n",
       "      <td>0</td>\n",
       "      <td>0</td>\n",
       "      <td>0</td>\n",
       "      <td>0</td>\n",
       "      <td>...</td>\n",
       "      <td>0</td>\n",
       "      <td>0</td>\n",
       "      <td>0</td>\n",
       "      <td>0</td>\n",
       "      <td>0</td>\n",
       "      <td>0</td>\n",
       "      <td>0</td>\n",
       "      <td>0</td>\n",
       "      <td>4</td>\n",
       "      <td>四</td>\n",
       "    </tr>\n",
       "    <tr>\n",
       "      <th>12282</th>\n",
       "      <td>0</td>\n",
       "      <td>0</td>\n",
       "      <td>0</td>\n",
       "      <td>0</td>\n",
       "      <td>0</td>\n",
       "      <td>0</td>\n",
       "      <td>0</td>\n",
       "      <td>0</td>\n",
       "      <td>0</td>\n",
       "      <td>0</td>\n",
       "      <td>...</td>\n",
       "      <td>0</td>\n",
       "      <td>0</td>\n",
       "      <td>0</td>\n",
       "      <td>0</td>\n",
       "      <td>0</td>\n",
       "      <td>0</td>\n",
       "      <td>0</td>\n",
       "      <td>0</td>\n",
       "      <td>6</td>\n",
       "      <td>六</td>\n",
       "    </tr>\n",
       "    <tr>\n",
       "      <th>14460</th>\n",
       "      <td>0</td>\n",
       "      <td>0</td>\n",
       "      <td>0</td>\n",
       "      <td>0</td>\n",
       "      <td>0</td>\n",
       "      <td>0</td>\n",
       "      <td>0</td>\n",
       "      <td>0</td>\n",
       "      <td>0</td>\n",
       "      <td>0</td>\n",
       "      <td>...</td>\n",
       "      <td>0</td>\n",
       "      <td>0</td>\n",
       "      <td>0</td>\n",
       "      <td>0</td>\n",
       "      <td>0</td>\n",
       "      <td>0</td>\n",
       "      <td>0</td>\n",
       "      <td>0</td>\n",
       "      <td>8</td>\n",
       "      <td>八</td>\n",
       "    </tr>\n",
       "    <tr>\n",
       "      <th>1080</th>\n",
       "      <td>0</td>\n",
       "      <td>0</td>\n",
       "      <td>0</td>\n",
       "      <td>0</td>\n",
       "      <td>0</td>\n",
       "      <td>0</td>\n",
       "      <td>0</td>\n",
       "      <td>0</td>\n",
       "      <td>0</td>\n",
       "      <td>0</td>\n",
       "      <td>...</td>\n",
       "      <td>0</td>\n",
       "      <td>0</td>\n",
       "      <td>0</td>\n",
       "      <td>0</td>\n",
       "      <td>0</td>\n",
       "      <td>0</td>\n",
       "      <td>0</td>\n",
       "      <td>0</td>\n",
       "      <td>10</td>\n",
       "      <td>十</td>\n",
       "    </tr>\n",
       "  </tbody>\n",
       "</table>\n",
       "<p>10 rows × 4098 columns</p>\n",
       "</div>"
      ],
      "text/plain": [
       "       pixel_0  pixel_1  pixel_2  pixel_3  pixel_4  pixel_5  pixel_6  pixel_7  \\\n",
       "8359         0        0        0        0        0        0        0        0   \n",
       "4196         0        0        0        0        0        0        0        0   \n",
       "14747        0        0        0        0        0        0        0        0   \n",
       "9962         0        0        0        0        0        0        0        0   \n",
       "7976         0        0        0        0        0        0        0        0   \n",
       "10350        0        0        0        0        0        0        0        0   \n",
       "10553        0        0        0        0        0        0        0        0   \n",
       "12282        0        0        0        0        0        0        0        0   \n",
       "14460        0        0        0        0        0        0        0        0   \n",
       "1080         0        0        0        0        0        0        0        0   \n",
       "\n",
       "       pixel_8  pixel_9  ...  pixel_4088  pixel_4089  pixel_4090  pixel_4091  \\\n",
       "8359         0        0  ...           0           0           0           0   \n",
       "4196         0        0  ...           0           0           0           0   \n",
       "14747        0        0  ...           0           0           0           0   \n",
       "9962         0        0  ...           0           0           0           0   \n",
       "7976         0        0  ...           0           0           0           0   \n",
       "10350        0        0  ...           0           0           0           0   \n",
       "10553        0        0  ...           0           0           0           0   \n",
       "12282        0        0  ...           0           0           0           0   \n",
       "14460        0        0  ...           0           0           0           0   \n",
       "1080         0        0  ...           0           0           0           0   \n",
       "\n",
       "       pixel_4092  pixel_4093  pixel_4094  pixel_4095  label  character  \n",
       "8359            0           0           0           0      2          二  \n",
       "4196            0           0           0           0  10000          万  \n",
       "14747           0           0           0           0      8          八  \n",
       "9962            0           0           0           0      3          三  \n",
       "7976            0           0           0           0      1          一  \n",
       "10350           0           0           0           0      4          四  \n",
       "10553           0           0           0           0      4          四  \n",
       "12282           0           0           0           0      6          六  \n",
       "14460           0           0           0           0      8          八  \n",
       "1080            0           0           0           0     10          十  \n",
       "\n",
       "[10 rows x 4098 columns]"
      ]
     },
     "execution_count": 3,
     "metadata": {},
     "output_type": "execute_result"
    }
   ],
   "source": [
    "df.sample(10)"
   ]
  },
  {
   "cell_type": "code",
   "execution_count": 4,
   "id": "061cd068-cfd9-4394-83ff-d94e6dc7f92d",
   "metadata": {},
   "outputs": [
    {
     "data": {
      "text/plain": [
       "(15000, 4098)"
      ]
     },
     "execution_count": 4,
     "metadata": {},
     "output_type": "execute_result"
    }
   ],
   "source": [
    "df.shape"
   ]
  },
  {
   "cell_type": "code",
   "execution_count": 5,
   "id": "0ea5975f-8d5b-4e8f-a239-f62630ba3bd6",
   "metadata": {},
   "outputs": [],
   "source": [
    "feature_vectors, labels = df.iloc[:, :-2], df.iloc[:, -2:]"
   ]
  },
  {
   "cell_type": "code",
   "execution_count": 6,
   "id": "51351b71-77cd-4c72-b0df-9872250de8a9",
   "metadata": {},
   "outputs": [
    {
     "data": {
      "text/html": [
       "<div>\n",
       "<style scoped>\n",
       "    .dataframe tbody tr th:only-of-type {\n",
       "        vertical-align: middle;\n",
       "    }\n",
       "\n",
       "    .dataframe tbody tr th {\n",
       "        vertical-align: top;\n",
       "    }\n",
       "\n",
       "    .dataframe thead th {\n",
       "        text-align: right;\n",
       "    }\n",
       "</style>\n",
       "<table border=\"1\" class=\"dataframe\">\n",
       "  <thead>\n",
       "    <tr style=\"text-align: right;\">\n",
       "      <th></th>\n",
       "      <th>pixel_0</th>\n",
       "      <th>pixel_1</th>\n",
       "      <th>pixel_2</th>\n",
       "      <th>pixel_3</th>\n",
       "      <th>pixel_4</th>\n",
       "      <th>pixel_5</th>\n",
       "      <th>pixel_6</th>\n",
       "      <th>pixel_7</th>\n",
       "      <th>pixel_8</th>\n",
       "      <th>pixel_9</th>\n",
       "      <th>...</th>\n",
       "      <th>pixel_4086</th>\n",
       "      <th>pixel_4087</th>\n",
       "      <th>pixel_4088</th>\n",
       "      <th>pixel_4089</th>\n",
       "      <th>pixel_4090</th>\n",
       "      <th>pixel_4091</th>\n",
       "      <th>pixel_4092</th>\n",
       "      <th>pixel_4093</th>\n",
       "      <th>pixel_4094</th>\n",
       "      <th>pixel_4095</th>\n",
       "    </tr>\n",
       "  </thead>\n",
       "  <tbody>\n",
       "    <tr>\n",
       "      <th>0</th>\n",
       "      <td>0</td>\n",
       "      <td>0</td>\n",
       "      <td>0</td>\n",
       "      <td>0</td>\n",
       "      <td>0</td>\n",
       "      <td>0</td>\n",
       "      <td>0</td>\n",
       "      <td>0</td>\n",
       "      <td>0</td>\n",
       "      <td>0</td>\n",
       "      <td>...</td>\n",
       "      <td>0</td>\n",
       "      <td>0</td>\n",
       "      <td>0</td>\n",
       "      <td>0</td>\n",
       "      <td>0</td>\n",
       "      <td>0</td>\n",
       "      <td>0</td>\n",
       "      <td>0</td>\n",
       "      <td>0</td>\n",
       "      <td>0</td>\n",
       "    </tr>\n",
       "    <tr>\n",
       "      <th>1</th>\n",
       "      <td>0</td>\n",
       "      <td>0</td>\n",
       "      <td>0</td>\n",
       "      <td>0</td>\n",
       "      <td>0</td>\n",
       "      <td>0</td>\n",
       "      <td>0</td>\n",
       "      <td>0</td>\n",
       "      <td>0</td>\n",
       "      <td>0</td>\n",
       "      <td>...</td>\n",
       "      <td>0</td>\n",
       "      <td>0</td>\n",
       "      <td>0</td>\n",
       "      <td>0</td>\n",
       "      <td>0</td>\n",
       "      <td>0</td>\n",
       "      <td>0</td>\n",
       "      <td>0</td>\n",
       "      <td>0</td>\n",
       "      <td>0</td>\n",
       "    </tr>\n",
       "    <tr>\n",
       "      <th>2</th>\n",
       "      <td>0</td>\n",
       "      <td>0</td>\n",
       "      <td>0</td>\n",
       "      <td>0</td>\n",
       "      <td>0</td>\n",
       "      <td>0</td>\n",
       "      <td>0</td>\n",
       "      <td>0</td>\n",
       "      <td>0</td>\n",
       "      <td>0</td>\n",
       "      <td>...</td>\n",
       "      <td>0</td>\n",
       "      <td>0</td>\n",
       "      <td>0</td>\n",
       "      <td>0</td>\n",
       "      <td>0</td>\n",
       "      <td>0</td>\n",
       "      <td>0</td>\n",
       "      <td>0</td>\n",
       "      <td>0</td>\n",
       "      <td>0</td>\n",
       "    </tr>\n",
       "    <tr>\n",
       "      <th>3</th>\n",
       "      <td>0</td>\n",
       "      <td>0</td>\n",
       "      <td>0</td>\n",
       "      <td>0</td>\n",
       "      <td>0</td>\n",
       "      <td>0</td>\n",
       "      <td>0</td>\n",
       "      <td>0</td>\n",
       "      <td>0</td>\n",
       "      <td>0</td>\n",
       "      <td>...</td>\n",
       "      <td>0</td>\n",
       "      <td>0</td>\n",
       "      <td>0</td>\n",
       "      <td>0</td>\n",
       "      <td>0</td>\n",
       "      <td>0</td>\n",
       "      <td>0</td>\n",
       "      <td>0</td>\n",
       "      <td>0</td>\n",
       "      <td>0</td>\n",
       "    </tr>\n",
       "    <tr>\n",
       "      <th>4</th>\n",
       "      <td>0</td>\n",
       "      <td>0</td>\n",
       "      <td>0</td>\n",
       "      <td>0</td>\n",
       "      <td>0</td>\n",
       "      <td>0</td>\n",
       "      <td>0</td>\n",
       "      <td>0</td>\n",
       "      <td>0</td>\n",
       "      <td>0</td>\n",
       "      <td>...</td>\n",
       "      <td>0</td>\n",
       "      <td>0</td>\n",
       "      <td>0</td>\n",
       "      <td>0</td>\n",
       "      <td>0</td>\n",
       "      <td>0</td>\n",
       "      <td>0</td>\n",
       "      <td>0</td>\n",
       "      <td>0</td>\n",
       "      <td>0</td>\n",
       "    </tr>\n",
       "  </tbody>\n",
       "</table>\n",
       "<p>5 rows × 4096 columns</p>\n",
       "</div>"
      ],
      "text/plain": [
       "   pixel_0  pixel_1  pixel_2  pixel_3  pixel_4  pixel_5  pixel_6  pixel_7  \\\n",
       "0        0        0        0        0        0        0        0        0   \n",
       "1        0        0        0        0        0        0        0        0   \n",
       "2        0        0        0        0        0        0        0        0   \n",
       "3        0        0        0        0        0        0        0        0   \n",
       "4        0        0        0        0        0        0        0        0   \n",
       "\n",
       "   pixel_8  pixel_9  ...  pixel_4086  pixel_4087  pixel_4088  pixel_4089  \\\n",
       "0        0        0  ...           0           0           0           0   \n",
       "1        0        0  ...           0           0           0           0   \n",
       "2        0        0  ...           0           0           0           0   \n",
       "3        0        0  ...           0           0           0           0   \n",
       "4        0        0  ...           0           0           0           0   \n",
       "\n",
       "   pixel_4090  pixel_4091  pixel_4092  pixel_4093  pixel_4094  pixel_4095  \n",
       "0           0           0           0           0           0           0  \n",
       "1           0           0           0           0           0           0  \n",
       "2           0           0           0           0           0           0  \n",
       "3           0           0           0           0           0           0  \n",
       "4           0           0           0           0           0           0  \n",
       "\n",
       "[5 rows x 4096 columns]"
      ]
     },
     "execution_count": 6,
     "metadata": {},
     "output_type": "execute_result"
    }
   ],
   "source": [
    "feature_vectors.head()"
   ]
  },
  {
   "cell_type": "code",
   "execution_count": 7,
   "id": "b12d769a-2895-4f90-9a7b-33a04713eb0e",
   "metadata": {},
   "outputs": [
    {
     "data": {
      "text/plain": [
       "label      character\n",
       "0          零            1000\n",
       "1          一            1000\n",
       "2          二            1000\n",
       "3          三            1000\n",
       "4          四            1000\n",
       "5          五            1000\n",
       "6          六            1000\n",
       "7          七            1000\n",
       "8          八            1000\n",
       "9          九            1000\n",
       "10         十            1000\n",
       "100        百            1000\n",
       "1000       千            1000\n",
       "10000      万            1000\n",
       "100000000  亿            1000\n",
       "Name: count, dtype: int64"
      ]
     },
     "execution_count": 7,
     "metadata": {},
     "output_type": "execute_result"
    }
   ],
   "source": [
    "labels.value_counts()"
   ]
  },
  {
   "cell_type": "code",
   "execution_count": 8,
   "id": "cc888270-f285-4d03-bbaf-49a673e5ef7d",
   "metadata": {},
   "outputs": [],
   "source": [
    "one_hot = OneHotEncoder(sparse_output = False)"
   ]
  },
  {
   "cell_type": "code",
   "execution_count": 9,
   "id": "bf547af4-1d38-45b2-a520-87aaee4989e2",
   "metadata": {},
   "outputs": [],
   "source": [
    "encoded_labels = one_hot.fit_transform(labels.iloc[:, :1].values)"
   ]
  },
  {
   "cell_type": "code",
   "execution_count": 10,
   "id": "1df67571-71d1-4d1c-a8df-d5b266d78d64",
   "metadata": {},
   "outputs": [],
   "source": [
    "np_features, np_targets = feature_vectors.values.astype(np.float32), encoded_labels.copy()"
   ]
  },
  {
   "cell_type": "code",
   "execution_count": 11,
   "id": "ab972108-0715-4d14-b5bc-1bc272ce7cb3",
   "metadata": {},
   "outputs": [],
   "source": [
    "np_labels = labels.iloc[:, :1].values"
   ]
  },
  {
   "cell_type": "code",
   "execution_count": 12,
   "id": "b3871360-157f-41f4-8771-b660e606daeb",
   "metadata": {},
   "outputs": [
    {
     "data": {
      "image/png": "[encoded data removed]",
      "text/plain": [
       "<Figure size 1000x1000 with 16 Axes>"
      ]
     },
     "metadata": {},
     "output_type": "display_data"
    }
   ],
   "source": [
    "fig = plt.figure(figsize = (10, 10))\n",
    "\n",
    "rows, cols = 4,4\n",
    "\n",
    "for i in range(1, rows*cols+1):\n",
    "    fig.add_subplot(rows, cols, i)\n",
    "    choice = random.randint(0, 14999)\n",
    "    chosen_image = np_features[choice, :]\n",
    "    chosen_label = np_labels[choice]\n",
    "    plt.imshow(chosen_image.reshape(64, 64, 1), cmap = 'gray')\n",
    "    plt.title(chosen_label)\n",
    "    plt.axis(False)"
   ]
  },
  {
   "cell_type": "code",
   "execution_count": 13,
   "id": "d6fd1e51-fb9a-42aa-983c-57cb1f04f992",
   "metadata": {},
   "outputs": [
    {
     "data": {
      "text/plain": [
       "array([        0,         1,         2,         3,         4,         5,\n",
       "               6,         7,         8,         9,        10,       100,\n",
       "            1000,     10000, 100000000])"
      ]
     },
     "execution_count": 13,
     "metadata": {},
     "output_type": "execute_result"
    }
   ],
   "source": [
    "class_names = np.unique(np_labels)\n",
    "class_names"
   ]
  },
  {
   "cell_type": "code",
   "execution_count": 14,
   "id": "02d07598-eb41-4bc0-8c7d-8ec1323a49bf",
   "metadata": {},
   "outputs": [
    {
     "data": {
      "text/plain": [
       "array([[0., 0., 0., ..., 0., 0., 0.],\n",
       "       [0., 0., 0., ..., 0., 0., 0.],\n",
       "       [0., 0., 0., ..., 0., 0., 0.],\n",
       "       ...,\n",
       "       [0., 0., 0., ..., 0., 0., 0.],\n",
       "       [0., 0., 0., ..., 0., 0., 0.],\n",
       "       [0., 0., 0., ..., 0., 0., 0.]])"
      ]
     },
     "execution_count": 14,
     "metadata": {},
     "output_type": "execute_result"
    }
   ],
   "source": [
    "np_targets"
   ]
  },
  {
   "cell_type": "code",
   "execution_count": 15,
   "id": "d84ce450-b532-4b76-8745-55d1a4ae9c19",
   "metadata": {},
   "outputs": [],
   "source": [
    "np_target_features = np.array([i.reshape(1, 64, 64) for i in np_features])"
   ]
  },
  {
   "cell_type": "code",
   "execution_count": 16,
   "id": "25e595d7-d000-4f57-970d-0af54091d994",
   "metadata": {},
   "outputs": [],
   "source": [
    "torch_features = torch.tensor(np_target_features, dtype = torch.float)\n",
    "torch_target = torch.tensor(np_targets)"
   ]
  },
  {
   "cell_type": "code",
   "execution_count": 17,
   "id": "054189ce-73e2-4a36-a224-bd484cd5c5dd",
   "metadata": {},
   "outputs": [
    {
     "data": {
      "text/plain": [
       "(torch.Size([15000, 1, 64, 64]), torch.float32, torch.Size([15000, 15]))"
      ]
     },
     "execution_count": 17,
     "metadata": {},
     "output_type": "execute_result"
    }
   ],
   "source": [
    "torch_features.shape, torch_features.dtype, torch_target.shape"
   ]
  },
  {
   "cell_type": "code",
   "execution_count": 18,
   "id": "fa607429-c15b-4aad-ae35-050581e65aa6",
   "metadata": {},
   "outputs": [],
   "source": [
    "ds = TensorDataset(torch_features, torch_target)"
   ]
  },
  {
   "cell_type": "code",
   "execution_count": 19,
   "id": "843f9b77-8c5b-4e63-97e3-5bb4f24e3b83",
   "metadata": {},
   "outputs": [],
   "source": [
    "train_ds, test_ds, val_ds = random_split(ds, [0.8, 0.1, 0.1])"
   ]
  },
  {
   "cell_type": "code",
   "execution_count": 20,
   "id": "884fb53e-c15d-42a5-8ccd-3c978ecf6f1b",
   "metadata": {},
   "outputs": [
    {
     "data": {
      "text/plain": [
       "(12000, 1500, 1500)"
      ]
     },
     "execution_count": 20,
     "metadata": {},
     "output_type": "execute_result"
    }
   ],
   "source": [
    "len(train_ds), len(test_ds), len(val_ds)"
   ]
  },
  {
   "cell_type": "code",
   "execution_count": 21,
   "id": "f41a5251-ba6c-47f4-bf88-40a9cfbd7692",
   "metadata": {},
   "outputs": [],
   "source": [
    "train_dl = DataLoader(dataset = train_ds, batch_size = 64, shuffle = True)\n",
    "val_dl = DataLoader(dataset = val_ds, shuffle = False)\n",
    "test_dl = DataLoader(dataset = test_ds, shuffle = False)"
   ]
  },
  {
   "cell_type": "code",
   "execution_count": 22,
   "id": "3221d1a1-088f-410b-a139-045a95c568f4",
   "metadata": {},
   "outputs": [],
   "source": [
    "train_image_batch, train_image_label = next(iter(train_dl))"
   ]
  },
  {
   "cell_type": "code",
   "execution_count": 23,
   "id": "6899973b-6f52-4edd-8bf0-da87c88e3e2e",
   "metadata": {},
   "outputs": [
    {
     "data": {
      "text/plain": [
       "'cpu'"
      ]
     },
     "execution_count": 23,
     "metadata": {},
     "output_type": "execute_result"
    }
   ],
   "source": [
    "device = 'cuda' if torch.cuda.is_available() else 'cpu'\n",
    "device"
   ]
  },
  {
   "cell_type": "code",
   "execution_count": 24,
   "id": "1d7362dc-0f67-45b6-bcaa-777729dc9634",
   "metadata": {},
   "outputs": [],
   "source": [
    "class ChineseMnistModelV0(nn.Module):\n",
    "    def __init__(self, class_names):\n",
    "        super(ChineseMnistModelV0, self).__init__()\n",
    "\n",
    "        self.class_names = class_names\n",
    "        \n",
    "        self.input_layer = nn.Sequential(\n",
    "            # input conv\n",
    "            nn.Conv2d(1,128,2, 1),\n",
    "            nn.ReLU(),\n",
    "            nn.MaxPool2d(kernel_size = (2,2)),\n",
    "            nn.Dropout(0.3),\n",
    "            # second conv\n",
    "            nn.Conv2d(128,10,2, 2),\n",
    "            nn.ReLU(),\n",
    "            nn.MaxPool2d(kernel_size = (2,2)),\n",
    "            nn.Dropout(0.3),\n",
    "        )\n",
    "\n",
    "        self.output = nn.Sequential(\n",
    "            nn.Flatten(),\n",
    "            nn.Linear(490, 150),\n",
    "            nn.ReLU(),\n",
    "            nn.Linear(150, out_features = self.class_names),\n",
    "        )\n",
    "    def forward(self, X: torch.Tensor) -> torch.Tensor:\n",
    "        X /= 255\n",
    "        X = self.input_layer(X)\n",
    "        X = self.output(X)\n",
    "        return X"
   ]
  },
  {
   "cell_type": "code",
   "execution_count": 25,
   "id": "623dd0a4-5b49-4bb6-b242-9f71371488c7",
   "metadata": {},
   "outputs": [],
   "source": [
    "model_0 = ChineseMnistModelV0(len(class_names)).to(device)"
   ]
  },
  {
   "cell_type": "code",
   "execution_count": 26,
   "id": "6151ae2e-d817-4d37-9f23-114350af87bb",
   "metadata": {},
   "outputs": [],
   "source": [
    "pred = model_0(train_image_batch[0].to(device, dtype = torch.float).unsqueeze(dim = 0))"
   ]
  },
  {
   "cell_type": "code",
   "execution_count": 27,
   "id": "3f733c26-01e0-4afc-962c-06e35aa6a52a",
   "metadata": {},
   "outputs": [
    {
     "data": {
      "text/plain": [
       "torch.Size([1, 64, 64])"
      ]
     },
     "execution_count": 27,
     "metadata": {},
     "output_type": "execute_result"
    }
   ],
   "source": [
    "train_image_batch[0].shape"
   ]
  },
  {
   "cell_type": "code",
   "execution_count": 28,
   "id": "eec8ce41-55cc-48ad-974c-f7619984b7d7",
   "metadata": {},
   "outputs": [
    {
     "data": {
      "text/plain": [
       "torch.Size([1, 15])"
      ]
     },
     "execution_count": 28,
     "metadata": {},
     "output_type": "execute_result"
    }
   ],
   "source": [
    "pred.shape"
   ]
  },
  {
   "cell_type": "code",
   "execution_count": 29,
   "id": "0e904f7a-2471-4910-a33f-a3962e51b8fc",
   "metadata": {},
   "outputs": [
    {
     "data": {
      "text/plain": [
       "tensor([[ 0.0525,  0.0855, -0.0815, -0.0765, -0.0295,  0.0321,  0.0226, -0.0548,\n",
       "          0.0514, -0.0461,  0.0598,  0.0619,  0.0183, -0.0097,  0.0647]],\n",
       "       grad_fn=<AddmmBackward0>)"
      ]
     },
     "execution_count": 29,
     "metadata": {},
     "output_type": "execute_result"
    }
   ],
   "source": [
    "pred"
   ]
  },
  {
   "cell_type": "code",
   "execution_count": 30,
   "id": "d7d00c00-988e-45da-b3e5-ca6e2fb33763",
   "metadata": {},
   "outputs": [],
   "source": [
    "optimizer = torch.optim.SGD(params = model_0.parameters(), lr = 1e-2, momentum = 0.9, weight_decay = 1e-4, nesterov = True)\n",
    "loss_fn = nn.CrossEntropyLoss()"
   ]
  },
  {
   "cell_type": "code",
   "execution_count": 31,
   "id": "bb06c2ed-0791-489a-8f1f-9b0c05551b61",
   "metadata": {},
   "outputs": [],
   "source": [
    "def fit(epochs, model, train_dl, test_dl, optimizer, loss_fn, device = 'cpu', step = 1):\n",
    "    \n",
    "    train_loss_count = list()\n",
    "    test_loss_count = list()\n",
    "    epoch_count = list()\n",
    "    \n",
    "    model.to(device)\n",
    "    for epoch in tqdm(range(epochs)):\n",
    "\n",
    "        train_loss = .0\n",
    "        for X, y in train_dl:\n",
    "            model.train()\n",
    "\n",
    "            X, y = X.to(device), y.to(device)\n",
    "            y_pred = model(X)\n",
    "\n",
    "            loss = loss_fn(y_pred, y)\n",
    "            train_loss += loss\n",
    "\n",
    "            optimizer.zero_grad()\n",
    "            loss.backward()\n",
    "            optimizer.step()\n",
    "\n",
    "        train_loss /= len(train_dl)\n",
    "        train_loss_count.append(train_loss.detach().item())\n",
    "\n",
    "        test_loss = .0\n",
    "        with torch.inference_mode():\n",
    "            for test_X, test_y in test_dl:\n",
    "                test_X, test_y = test_X.to(device), test_y.to(device)\n",
    "                test_pred = model(test_X)\n",
    "\n",
    "                test_loss += loss_fn(test_pred, test_y)\n",
    "\n",
    "            test_loss /= len(test_dl)\n",
    "            test_loss_count.append(test_loss.detach().item())\n",
    "\n",
    "        epoch_count.append(epoch)\n",
    "        if epoch % step == 0:\n",
    "            print(f'Epoch: {epoch}')\n",
    "            print(f'Train Loss -> {train_loss:.3f} | Test Loss -> {test_loss:.3f}')\n",
    "            print('----------------------------------------------------------------------------')\n",
    "            print('----------------------------------------------------------------------------')\n",
    "        if epoch + 1 == epochs:\n",
    "            print(f'Epoch: {epoch}')\n",
    "            print(f'Train Loss -> {train_loss:.3f} | Test Loss -> {test_loss:.3f}')\n",
    "            print('----------------------------------------------------------------------------')\n",
    "            print('----------------------------------------------------------------------------')\n",
    "\n",
    "    return {\n",
    "    'epochs': epoch_count,\n",
    "    'train_loss': train_loss_count,\n",
    "    'test_loss': test_loss_count,\n",
    "    }\n",
    "        "
   ]
  },
  {
   "cell_type": "code",
   "execution_count": 32,
   "id": "55233844-3762-47ae-98be-0af9a895ea5e",
   "metadata": {
    "scrolled": true
   },
   "outputs": [
    {
     "name": "stderr",
     "output_type": "stream",
     "text": [
      "  2%|▊                                        | 1/50 [02:07<1:44:19, 127.74s/it]"
     ]
    },
    {
     "name": "stdout",
     "output_type": "stream",
     "text": [
      "Epoch: 0\n",
      "Train Loss -> 2.709 | Test Loss -> 2.710\n",
      "----------------------------------------------------------------------------\n",
      "----------------------------------------------------------------------------\n"
     ]
    },
    {
     "name": "stderr",
     "output_type": "stream",
     "text": [
      " 12%|████▉                                    | 6/50 [12:19<1:29:54, 122.61s/it]"
     ]
    },
    {
     "name": "stdout",
     "output_type": "stream",
     "text": [
      "Epoch: 5\n",
      "Train Loss -> 1.920 | Test Loss -> 1.765\n",
      "----------------------------------------------------------------------------\n",
      "----------------------------------------------------------------------------\n"
     ]
    },
    {
     "name": "stderr",
     "output_type": "stream",
     "text": [
      " 22%|████████▊                               | 11/50 [21:34<1:14:04, 113.97s/it]"
     ]
    },
    {
     "name": "stdout",
     "output_type": "stream",
     "text": [
      "Epoch: 10\n",
      "Train Loss -> 1.234 | Test Loss -> 1.309\n",
      "----------------------------------------------------------------------------\n",
      "----------------------------------------------------------------------------\n"
     ]
    },
    {
     "name": "stderr",
     "output_type": "stream",
     "text": [
      " 32%|████████████▊                           | 16/50 [31:41<1:08:00, 120.01s/it]"
     ]
    },
    {
     "name": "stdout",
     "output_type": "stream",
     "text": [
      "Epoch: 15\n",
      "Train Loss -> 0.939 | Test Loss -> 0.927\n",
      "----------------------------------------------------------------------------\n",
      "----------------------------------------------------------------------------\n"
     ]
    },
    {
     "name": "stderr",
     "output_type": "stream",
     "text": [
      " 42%|█████████████████▋                        | 21/50 [41:53<59:28, 123.04s/it]"
     ]
    },
    {
     "name": "stdout",
     "output_type": "stream",
     "text": [
      "Epoch: 20\n",
      "Train Loss -> 0.580 | Test Loss -> 0.593\n",
      "----------------------------------------------------------------------------\n",
      "----------------------------------------------------------------------------\n"
     ]
    },
    {
     "name": "stderr",
     "output_type": "stream",
     "text": [
      " 52%|█████████████████████▊                    | 26/50 [52:15<50:16, 125.70s/it]"
     ]
    },
    {
     "name": "stdout",
     "output_type": "stream",
     "text": [
      "Epoch: 25\n",
      "Train Loss -> 0.460 | Test Loss -> 0.516\n",
      "----------------------------------------------------------------------------\n",
      "----------------------------------------------------------------------------\n"
     ]
    },
    {
     "name": "stderr",
     "output_type": "stream",
     "text": [
      " 62%|████████████████████████▊               | 31/50 [1:02:51<39:56, 126.15s/it]"
     ]
    },
    {
     "name": "stdout",
     "output_type": "stream",
     "text": [
      "Epoch: 30\n",
      "Train Loss -> 0.415 | Test Loss -> 0.453\n",
      "----------------------------------------------------------------------------\n",
      "----------------------------------------------------------------------------\n"
     ]
    },
    {
     "name": "stderr",
     "output_type": "stream",
     "text": [
      " 72%|████████████████████████████▊           | 36/50 [1:13:08<29:27, 126.25s/it]"
     ]
    },
    {
     "name": "stdout",
     "output_type": "stream",
     "text": [
      "Epoch: 35\n",
      "Train Loss -> 0.382 | Test Loss -> 0.447\n",
      "----------------------------------------------------------------------------\n",
      "----------------------------------------------------------------------------\n"
     ]
    },
    {
     "name": "stderr",
     "output_type": "stream",
     "text": [
      " 82%|████████████████████████████████▊       | 41/50 [1:23:27<18:39, 124.34s/it]"
     ]
    },
    {
     "name": "stdout",
     "output_type": "stream",
     "text": [
      "Epoch: 40\n",
      "Train Loss -> 0.355 | Test Loss -> 0.417\n",
      "----------------------------------------------------------------------------\n",
      "----------------------------------------------------------------------------\n"
     ]
    },
    {
     "name": "stderr",
     "output_type": "stream",
     "text": [
      " 92%|████████████████████████████████████▊   | 46/50 [1:33:59<08:19, 124.87s/it]"
     ]
    },
    {
     "name": "stdout",
     "output_type": "stream",
     "text": [
      "Epoch: 45\n",
      "Train Loss -> 0.340 | Test Loss -> 0.394\n",
      "----------------------------------------------------------------------------\n",
      "----------------------------------------------------------------------------\n"
     ]
    },
    {
     "name": "stderr",
     "output_type": "stream",
     "text": [
      "100%|████████████████████████████████████████| 50/50 [1:42:55<00:00, 123.52s/it]"
     ]
    },
    {
     "name": "stdout",
     "output_type": "stream",
     "text": [
      "Epoch: 49\n",
      "Train Loss -> 0.313 | Test Loss -> 0.386\n",
      "----------------------------------------------------------------------------\n",
      "----------------------------------------------------------------------------\n"
     ]
    },
    {
     "name": "stderr",
     "output_type": "stream",
     "text": [
      "\n"
     ]
    }
   ],
   "source": [
    "torch.manual_seed(42)\n",
    "history = fit(epochs = 50, model = model_0, train_dl = train_dl, test_dl = test_dl, optimizer = optimizer, loss_fn = loss_fn, step = 5)"
   ]
  },
  {
   "cell_type": "code",
   "execution_count": 33,
   "id": "dfd4b1db-3f20-4d0d-ac79-07d27dd02a1c",
   "metadata": {},
   "outputs": [],
   "source": [
    "def loss_plot(history):\n",
    "    plt.plot(history['epochs'], history['train_loss'], c= 'b', label = 'training loss')\n",
    "    plt.plot(history['epochs'], history['test_loss'], c = 'r', label = 'testing loss')\n",
    "    plt.xlabel('Epochs')\n",
    "    plt.ylabel('Loss')\n",
    "    plt.legend(loc = 0)\n",
    "    plt.show()"
   ]
  },
  {
   "cell_type": "code",
   "execution_count": 34,
   "id": "27b129a2-7ab3-4540-be7e-3bf604e6f7cf",
   "metadata": {
    "scrolled": true
   },
   "outputs": [
    {
     "data": {
      "image/png": "[encoded data removed]",
      "text/plain": [
       "<Figure size 640x480 with 1 Axes>"
      ]
     },
     "metadata": {},
     "output_type": "display_data"
    }
   ],
   "source": [
    "loss_plot(history)"
   ]
  },
  {
   "cell_type": "code",
   "execution_count": 37,
   "id": "ddb20497-643e-4312-8b57-c8cc25864c32",
   "metadata": {},
   "outputs": [],
   "source": [
    "f1_score = F1Score(task = 'multiclass', num_classes = len(class_names))"
   ]
  },
  {
   "cell_type": "code",
   "execution_count": 54,
   "id": "91b1d03d-20d9-4b96-9cf1-eb61dbc8abe5",
   "metadata": {},
   "outputs": [
    {
     "name": "stdout",
     "output_type": "stream",
     "text": [
      "[[ 98   0   0   0   0   1   0   0   0   2   0   2   0   2   0]\n",
      " [  0 113   2   0   0   0   0   0   0   0   0   0   0   0   0]\n",
      " [  0   9  68  18   0   1   0   0   0   0   0   0   1   0   0]\n",
      " [  0   1  11  92   0   0   0   1   0   0   0   0   0   1   0]\n",
      " [  0   0   0   0  90   1   2   4   0   1   0   2   0   2   1]\n",
      " [  0   0   1   4   0  79   0   6   0   2   0   2   1   0   0]\n",
      " [  0   0   0   0   1   0  87   3   0   4   0   0   2   6   0]\n",
      " [  0   0   0   0   0   2   0  84   1   8   1   0   0   0   0]\n",
      " [  0   0   0   0   0   0   0   0  98   1   0   0   0   0   0]\n",
      " [  0   0   0   0   1   0   0   3   1  75   0   1   0   0   8]\n",
      " [  0   1   0   0   1   0   1   1   1   0 107   0   7   2   0]\n",
      " [  0   0   0   0   1   1   2   1   0   0   0  70   1  13   0]\n",
      " [  0   0   0   0   0   0   1   0   0   0  10   1  92   0   0]\n",
      " [  1   0   0   0   0   0   2   0   0   3   1   3   0  75   1]\n",
      " [  0   0   0   0   0   2   0   6   1   9   0   2   0   0  72]]\n"
     ]
    }
   ],
   "source": [
    "from sklearn.metrics import confusion_matrix\n",
    "def get_confusion_matrix(model, dataloader):\n",
    "    all_true = []\n",
    "    all_pred = []\n",
    "    \n",
    "    with torch.inference_mode():\n",
    "        for val_X, val_y in dataloader:\n",
    "            val_X, val_y = val_X.to(device), val_y.to(device)\n",
    "            val_pred = model(val_X)\n",
    "            \n",
    "            true_labels = val_y.argmax(dim=1).cpu().detach().numpy()\n",
    "            predicted_labels = val_pred.argmax(dim=1).cpu().detach().numpy()\n",
    "            \n",
    "            all_true.extend(true_labels)\n",
    "            all_pred.extend(predicted_labels)\n",
    "    \n",
    "    return confusion_matrix(all_true, all_pred)\n",
    "\n",
    "confusion = get_confusion_matrix(model_0, val_dl)\n",
    "print(confusion)"
   ]
  },
  {
   "cell_type": "code",
   "execution_count": 57,
   "id": "d45f689f-66ed-425b-a27e-3d06714b9459",
   "metadata": {},
   "outputs": [
    {
     "data": {
      "image/png": "[encoded data removed]",
      "text/plain": [
       "<Figure size 800x800 with 1 Axes>"
      ]
     },
     "metadata": {},
     "output_type": "display_data"
    }
   ],
   "source": [
    "plt.figure(figsize=(8,8))\n",
    "sns.set(font_scale = 1.5)\n",
    "\n",
    "ax = sns.heatmap(\n",
    "    confusion, annot=True, fmt='d', \n",
    "    cbar=False, cmap='tab10', vmax=500 \n",
    ")\n",
    "\n",
    "ax.set_xlabel(\"Predicted\", labelpad=20)\n",
    "ax.set_ylabel(\"Actual\", labelpad=20)\n",
    "plt.show()"
   ]
  },
  {
   "cell_type": "code",
   "execution_count": 58,
   "id": "805aa347-2ab6-4f5d-94a1-636a4d676985",
   "metadata": {},
   "outputs": [],
   "source": [
    "torch.save(model_0, 'chinese_mnist_model_0.pkl')"
   ]
  },
  {
   "cell_type": "code",
   "execution_count": null,
   "id": "7b18377c-d658-4b86-973e-67bf5b938d06",
   "metadata": {},
   "outputs": [],
   "source": []
  }
 ],
 "metadata": {
  "kernelspec": {
   "display_name": "Python 3 (ipykernel)",
   "language": "python",
   "name": "python3"
  },
  "language_info": {
   "codemirror_mode": {
    "name": "ipython",
    "version": 3
   },
   "file_extension": ".py",
   "mimetype": "text/x-python",
   "name": "python",
   "nbconvert_exporter": "python",
   "pygments_lexer": "ipython3",
   "version": "3.10.12"
  }
 },
 "nbformat": 4,
 "nbformat_minor": 5
}
